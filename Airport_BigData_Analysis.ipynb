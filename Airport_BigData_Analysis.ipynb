{
  "cells": [
    {
      "cell_type": "code",
      "execution_count": null,
      "id": "f9679180",
      "metadata": {
        "id": "f9679180"
      },
      "outputs": [],
      "source": [
        "from pyspark import SparkContext\n",
        "sc = SparkContext(master='local', appName='Flight Analysis')"
      ]
    },
    {
      "cell_type": "code",
      "execution_count": null,
      "id": "a4514371",
      "metadata": {
        "id": "a4514371"
      },
      "outputs": [],
      "source": [
        "rdd_data = sc.textFile('in/trip.txt')"
      ]
    },
    {
      "cell_type": "code",
      "execution_count": null,
      "id": "VrXRsErMHGFB",
      "metadata": {
        "id": "VrXRsErMHGFB"
      },
      "outputs": [],
      "source": [
        "# Departure_Date_Time, Departure_Airport_name , Departure_Airport_Code , Destenation_Airport_name, Destenation_Airport_code, Arrival_Date_Time, airline_name, Distance, Aircraft_type, # of Seats, # of Passengers"
      ]
    },
    {
      "cell_type": "code",
      "execution_count": null,
      "id": "YjM5_SciI65F",
      "metadata": {
        "id": "YjM5_SciI65F"
      },
      "outputs": [],
      "source": [
        "from datetime import datetime\n",
        "\n",
        "# Extracts the year & month from a datetime string in the format YYYY-MM-DD HH:MM:SS\n",
        "\n",
        "def date (str_date, my_format):\n",
        "  return datetime.strptime(str_date, my_format).date()\n",
        "def year (str_date, my_format):\n",
        "  return datetime.strptime(str_date, my_format).year\n",
        "def month(str_date, my_format):\n",
        "  return datetime.strptime(str_date, my_format).month\n",
        "def day(str_date, my_format):\n",
        "  return datetime.strptime(str_date, my_format).day\n",
        "def hour(str_date, my_format):\n",
        "  return datetime.strptime(str_date, my_format).hour\n",
        "def minute(str_date, my_format):\n",
        "  return datetime.strptime(str_date, my_format).minute"
      ]
    },
    {
      "cell_type": "markdown",
      "id": "62c49542",
      "metadata": {
        "id": "62c49542"
      },
      "source": [
        "###  Find the number of flights per month that depart from \"McCarran International Airport\" in 2024. Print the results."
      ]
    },
    {
      "cell_type": "code",
      "execution_count": null,
      "id": "mzG-6hdME2i6",
      "metadata": {
        "id": "mzG-6hdME2i6"
      },
      "outputs": [],
      "source": [
        "rdd_splited = rdd_data.map(lambda x:x.split(','))\n",
        "rdd_McCarran_Airport = rdd_splited.filter(lambda x: x[1].lower()=='McCarran International Airport'.lower())\n",
        "rdd_McCarran_Airport_2024 = rdd_McCarran_Airport.filter(lambda x: year(x[0],'%Y-%m-%d %H:%M:%S')==2024)\n",
        "pair_rdd1 = rdd_McCarran_Airport_2024.map(lambda x: (month(x[0], '%Y-%m-%d %H:%M:%S'), 1))\n",
        "flights_McCarran_Airport_2024 = pair_rdd1.reduceByKey(lambda x,y: x+y)\n",
        "sorted_flights_McCarran_Airport_2024 =  flights_McCarran_Airport_2024.sortByKey()"
      ]
    },
    {
      "cell_type": "code",
      "execution_count": null,
      "id": "enx1yrgPLEAx",
      "metadata": {
        "colab": {
          "base_uri": "https://localhost:8080/"
        },
        "id": "enx1yrgPLEAx",
        "outputId": "d9bfb37c-9135-4ade-e134-cfae1697a028"
      },
      "outputs": [
        {
          "data": {
            "text/plain": [
              "[(1, 6910), (2, 6379), (3, 6874), (4, 6658), (5, 6612)]"
            ]
          },
          "execution_count": 15,
          "metadata": {},
          "output_type": "execute_result"
        }
      ],
      "source": [
        "sorted_flights_McCarran_Airport_2024.collect()"
      ]
    },
    {
      "cell_type": "markdown",
      "id": "87f9fdff",
      "metadata": {
        "id": "87f9fdff"
      },
      "source": [
        "### Find the number of passengers departing from “Frankfurt Airport” between 13:00 and 22:00. Print the results."
      ]
    },
    {
      "cell_type": "code",
      "execution_count": null,
      "id": "zMhYuBxHTurm",
      "metadata": {
        "id": "zMhYuBxHTurm"
      },
      "outputs": [],
      "source": [
        "def between_two_times(time, from_, to_):\n",
        "\n",
        "  from_ = datetime.strptime(from_, '%H:%M').time()\n",
        "  to_ = datetime.strptime(to_, '%H:%M').time()\n",
        "  time = datetime.strptime(time, '%Y-%m-%d %H:%M:%S').time()\n",
        "\n",
        "  return from_ <= time and to_ >= time"
      ]
    },
    {
      "cell_type": "code",
      "execution_count": null,
      "id": "60fd8e13",
      "metadata": {
        "id": "60fd8e13"
      },
      "outputs": [],
      "source": [
        "rdd_Frankfurt_Airport = rdd_splited.filter(lambda x: x[1].lower()=='Frankfurt Airport'.lower())\n",
        "rdd_Frankfurt_Airport_13_22 = rdd_Frankfurt_Airport.filter(lambda x:between_two_times(x[0], '13:00', '22:00'))\n",
        "rdd_Frankfurt_Airport_13_22_no_passengers =  rdd_Frankfurt_Airport_13_22.map(lambda x:int(x[-1]))"
      ]
    },
    {
      "cell_type": "code",
      "execution_count": null,
      "id": "KGYryjp65dPy",
      "metadata": {
        "colab": {
          "base_uri": "https://localhost:8080/"
        },
        "id": "KGYryjp65dPy",
        "outputId": "07dc2dd2-3d5c-4d17-9ba2-17c982b4b03c"
      },
      "outputs": [
        {
          "data": {
            "text/plain": [
              "1664119"
            ]
          },
          "execution_count": 19,
          "metadata": {},
          "output_type": "execute_result"
        }
      ],
      "source": [
        "rdd_Frankfurt_Airport_13_22_no_passengers.reduce(lambda x,y : x+y)"
      ]
    },
    {
      "cell_type": "markdown",
      "id": "9c96464d",
      "metadata": {
        "id": "9c96464d"
      },
      "source": [
        "### Find all “Air France” flights that land at “Kuala Lumpur International Airport” and store the results in a file."
      ]
    },
    {
      "cell_type": "code",
      "execution_count": null,
      "id": "447bb63f",
      "metadata": {
        "id": "447bb63f"
      },
      "outputs": [],
      "source": [
        "rdd_Air_France_Kuala_Lumpur = rdd_splited.filter(lambda x: x[6].title()=='Air France' and x[3].title()=='Kuala Lumpur International Airport')\n",
        "rdd_Air_France_Kuala_Lumpur.saveAsTextFile('out/Air_France_Kuala_Lumpur.txt')"
      ]
    },
    {
      "cell_type": "code",
      "execution_count": null,
      "id": "MQqo4Y__Stga",
      "metadata": {
        "colab": {
          "base_uri": "https://localhost:8080/"
        },
        "id": "MQqo4Y__Stga",
        "outputId": "4b9801e6-8ca4-4a5b-9ea1-7d0fd7504240"
      },
      "outputs": [
        {
          "data": {
            "text/plain": [
              "3802"
            ]
          },
          "execution_count": 21,
          "metadata": {},
          "output_type": "execute_result"
        }
      ],
      "source": [
        "rdd_Air_France_Kuala_Lumpur.count()"
      ]
    },
    {
      "cell_type": "markdown",
      "id": "738e193b",
      "metadata": {
        "id": "738e193b"
      },
      "source": [
        "### Find the number of overnight flights in 2024 for each airline. The term \"overnight flights\" refers to flights that depart between 20:00 and 23:00 and arrive the next day after 03:00. Store the results in a file."
      ]
    },
    {
      "cell_type": "code",
      "execution_count": 73,
      "id": "784shrMZfTg5",
      "metadata": {
        "id": "784shrMZfTg5"
      },
      "outputs": [],
      "source": [
        "import calendar\n",
        "def is_last_day_in_month(date):\n",
        "  last_day = calendar.monthrange(date.year, date.month)[-1]\n",
        "  # print(last_day,date.day)\n",
        "  return last_day == date.day"
      ]
    },
    {
      "cell_type": "code",
      "execution_count": 75,
      "id": "aug2Dr2ThUkg",
      "metadata": {
        "colab": {
          "base_uri": "https://localhost:8080/"
        },
        "id": "aug2Dr2ThUkg",
        "outputId": "ba6f7332-4670-4fd9-8d23-692fa90050b5"
      },
      "outputs": [
        {
          "data": {
            "text/plain": [
              "True"
            ]
          },
          "execution_count": 75,
          "metadata": {},
          "output_type": "execute_result"
        }
      ],
      "source": [
        "# Test is_last_day_in_month\n",
        "date_0 = datetime.strptime('2024-05-31', '%Y-%m-%d')\n",
        "is_last_day_in_month(date_0)"
      ]
    },
    {
      "cell_type": "code",
      "execution_count": 76,
      "id": "KFNEAgFMfImh",
      "metadata": {
        "id": "KFNEAgFMfImh"
      },
      "outputs": [],
      "source": [
        "from datetime import timedelta\n",
        "\n",
        "def is_overnight(dep_dt,arr_dt, exp_time):\n",
        "  dep_dt = datetime.strptime(dep_dt, '%Y-%m-%d %H:%M:%S')\n",
        "  arr_dt = datetime.strptime(arr_dt, '%Y-%m-%d %H:%M:%S')\n",
        "  exp_time = datetime.strptime(exp_time, '%H:%M').time()\n",
        "\n",
        "  if is_last_day_in_month(dep_dt):\n",
        "    return ((dep_dt.date() + timedelta(days = 31)).month == arr_dt.month) and ((dep_dt.date() + timedelta(days = 1)).day == arr_dt.day) and (arr_dt.time() >= exp_time)\n",
        "  return (dep_dt.month == arr_dt.month) and ((dep_dt.date() + timedelta(days = 1)).day == arr_dt.day) and (arr_dt.time() >= exp_time)\n"
      ]
    },
    {
      "cell_type": "code",
      "execution_count": 77,
      "id": "CACej8UPkM5w",
      "metadata": {
        "colab": {
          "base_uri": "https://localhost:8080/"
        },
        "id": "CACej8UPkM5w",
        "outputId": "f0f81239-e1fa-4f73-a345-920298756d51"
      },
      "outputs": [
        {
          "data": {
            "text/plain": [
              "True"
            ]
          },
          "execution_count": 77,
          "metadata": {},
          "output_type": "execute_result"
        }
      ],
      "source": [
        "# Test is_overnight\n",
        "is_overnight('2024-04-30 22:11:00', '2024-05-01 4:00:00', '3:00')"
      ]
    },
    {
      "cell_type": "code",
      "execution_count": 78,
      "id": "221b3b51",
      "metadata": {
        "id": "221b3b51"
      },
      "outputs": [],
      "source": [
        "rdd_flights_2024 = rdd_splited.filter(lambda x: year(x[0],'%Y-%m-%d %H:%M:%S') == 2024)\n",
        "# overnight flights\" refers to flights that depart between 20:00 and 23:00 and arrive the next day after 03:00.\n",
        "rdd_overnight_flights_2024 = rdd_flights_2024.filter(lambda x: between_two_times(x[0], '20:00', '23:00') and is_overnight(x[0], x[5], '03:00'))"
      ]
    },
    {
      "cell_type": "code",
      "execution_count": 80,
      "id": "LuywYZYuml9t",
      "metadata": {
        "colab": {
          "base_uri": "https://localhost:8080/"
        },
        "id": "LuywYZYuml9t",
        "outputId": "d6075486-b9e1-465f-a439-c6203162a97e"
      },
      "outputs": [
        {
          "data": {
            "text/plain": [
              "89450"
            ]
          },
          "execution_count": 80,
          "metadata": {},
          "output_type": "execute_result"
        }
      ],
      "source": [
        "rdd_overnight_flights_2024.saveAsTextFile('out/overnight_flights_2024.txt')\n",
        "rdd_overnight_flights_2024.count()"
      ]
    },
    {
      "cell_type": "markdown",
      "id": "68cc9e22",
      "metadata": {
        "id": "68cc9e22"
      },
      "source": [
        "### The occupancy rate for a flight refers to the percentage of available seats on an aircraft that are filled with passengers.  For example, if a plane has 200 seats and there are 180 passengers on board, the occupancy rate would be:\n",
        "\n",
        "### (180 passengers / 200 seats) * 100 = 90% occupancy rate"
      ]
    },
    {
      "cell_type": "markdown",
      "id": "bf662a84",
      "metadata": {
        "id": "bf662a84"
      },
      "source": [
        "### Task 5: Find the occupancy rate for each “Air Canada” flight in May 2024."
      ]
    },
    {
      "cell_type": "code",
      "execution_count": null,
      "id": "qsGbPcfSsvqW",
      "metadata": {
        "id": "qsGbPcfSsvqW"
      },
      "outputs": [],
      "source": [
        "def specific_date(flight_dt, spec_dt):\n",
        "  flight_dt = datetime.strptime(flight_dt, '%Y-%m-%d %H:%M:%S')\n",
        "  spec_dt = datetime.strptime(spec_dt, '%b %Y')\n",
        "  return flight_dt.year == spec_dt.year and flight_dt.month == spec_dt.month"
      ]
    },
    {
      "cell_type": "code",
      "execution_count": null,
      "id": "QjWgmilrwh_P",
      "metadata": {
        "colab": {
          "base_uri": "https://localhost:8080/"
        },
        "id": "QjWgmilrwh_P",
        "outputId": "e9944611-7e7b-4f62-d23b-dab6f3c23dca"
      },
      "outputs": [
        {
          "data": {
            "text/plain": [
              "True"
            ]
          },
          "execution_count": 48,
          "metadata": {},
          "output_type": "execute_result"
        }
      ],
      "source": [
        "# Test specific_date\n",
        "specific_date('2024-04-05 06:28:33', 'Apr 2024')"
      ]
    },
    {
      "cell_type": "code",
      "execution_count": null,
      "id": "03481e06",
      "metadata": {
        "id": "03481e06"
      },
      "outputs": [],
      "source": [
        "rdd_Air_Canada_May_2024 = rdd_splited.filter(lambda x :x[6].title() == 'Air Canada' and specific_date(x[0], 'May 2024'))\n",
        "occupancy_rate = rdd_Air_Canada_May_2024.map(lambda x: f'{int((int(x[-1]) / int(x[-2])) * 100)} %')"
      ]
    },
    {
      "cell_type": "code",
      "execution_count": null,
      "id": "72_aGkCOv1cM",
      "metadata": {
        "colab": {
          "base_uri": "https://localhost:8080/"
        },
        "id": "72_aGkCOv1cM",
        "outputId": "add297fa-1d96-49bc-8d1f-4d0017b0fd43"
      },
      "outputs": [
        {
          "data": {
            "text/plain": [
              "['95 %',\n",
              " '93 %',\n",
              " '93 %',\n",
              " '98 %',\n",
              " '94 %',\n",
              " '93 %',\n",
              " '100 %',\n",
              " '93 %',\n",
              " '98 %',\n",
              " '96 %',\n",
              " '98 %',\n",
              " '97 %',\n",
              " '98 %',\n",
              " '96 %',\n",
              " '96 %']"
            ]
          },
          "execution_count": 84,
          "metadata": {},
          "output_type": "execute_result"
        }
      ],
      "source": [
        "occupancy_rate.take(15)"
      ]
    }
  ],
  "metadata": {
    "colab": {
      "provenance": []
    },
    "kernelspec": {
      "display_name": "Python 3 (ipykernel)",
      "language": "python",
      "name": "python3"
    },
    "language_info": {
      "codemirror_mode": {
        "name": "ipython",
        "version": 3
      },
      "file_extension": ".py",
      "mimetype": "text/x-python",
      "name": "python",
      "nbconvert_exporter": "python",
      "pygments_lexer": "ipython3",
      "version": "3.11.7"
    }
  },
  "nbformat": 4,
  "nbformat_minor": 5
}
